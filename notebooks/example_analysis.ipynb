{
 "cells": [
  {
   "cell_type": "markdown",
   "metadata": {},
   "source": [
    "# Brain MRI Comparative Analysis - Example Notebook\n",
    "\n",
    "This notebook demonstrates how to use the DeepPrep analysis pipeline for comparing brain MRI scans between healthy individuals and patients with neurological disorders.\n",
    "\n",
    "## Contents\n",
    "1. Setup and Import Libraries\n",
    "2. Generate Synthetic Data\n",
    "3. Preprocessing MRI Scans\n",
    "4. Feature Extraction\n",
    "5. Comparative Analysis\n",
    "6. Visualization\n",
    "7. Interpretation of Results"
   ]
  },
  {
   "cell_type": "markdown",
   "metadata": {},
   "source": [
    "## 1. Setup and Import Libraries"
   ]
  },
  {
   "cell_type": "code",
   "execution_count": null,
   "metadata": {},
   "outputs": [],
   "source": [
    "import sys\n",
    "from pathlib import Path\n",
    "import numpy as np\n",
    "import pandas as pd\n",
    "import matplotlib.pyplot as plt\n",
    "import seaborn as sns\n",
    "\n",
    "# Add src to path\n",
    "sys.path.insert(0, str(Path.cwd().parent / 'src'))\n",
    "\n",
    "from deepprep_analysis import (\n",
    "    MRIPreprocessor,\n",
    "    FeatureExtractor,\n",
    "    ComparativeAnalyzer,\n",
    "    Visualizer\n",
    ")\n",
    "from deepprep_analysis.data_generator import SyntheticMRIGenerator\n",
    "\n",
    "# Set plotting style\n",
    "sns.set_style('whitegrid')\n",
    "plt.rcParams['figure.figsize'] = (12, 8)\n",
    "\n",
    "print(\"Libraries imported successfully!\")"
   ]
  },
  {
   "cell_type": "markdown",
   "metadata": {},
   "source": [
    "## 2. Generate Synthetic Data\n",
    "\n",
    "We'll generate synthetic brain MRI scans for demonstration purposes."
   ]
  },
  {
   "cell_type": "code",
   "execution_count": null,
   "metadata": {},
   "outputs": [],
   "source": [
    "# Initialize generator\n",
    "generator = SyntheticMRIGenerator(image_shape=(64, 64, 64))\n",
    "\n",
    "# Generate dataset\n",
    "print(\"Generating synthetic MRI data...\")\n",
    "generator.generate_dataset(\n",
    "    n_healthy=15,\n",
    "    n_disorder=15,\n",
    "    output_dir='../data'\n",
    ")\n",
    "print(\"Data generation complete!\")"
   ]
  },
  {
   "cell_type": "code",
   "execution_count": null,
   "metadata": {},
   "outputs": [],
   "source": [
    "# Visualize sample healthy and disorder MRI\n",
    "healthy_mri = generator.generate_healthy_mri(subject_id=0)\n",
    "disorder_mri = generator.generate_disorder_mri(subject_id=0)\n",
    "\n",
    "fig, axes = plt.subplots(2, 3, figsize=(15, 10))\n",
    "\n",
    "# Healthy brain slices\n",
    "slices = [20, 32, 44]\n",
    "for i, slice_idx in enumerate(slices):\n",
    "    axes[0, i].imshow(healthy_mri[:, :, slice_idx].T, cmap='gray', origin='lower')\n",
    "    axes[0, i].set_title(f'Healthy - Slice {slice_idx}')\n",
    "    axes[0, i].axis('off')\n",
    "\n",
    "# Disorder brain slices\n",
    "for i, slice_idx in enumerate(slices):\n",
    "    axes[1, i].imshow(disorder_mri[:, :, slice_idx].T, cmap='gray', origin='lower')\n",
    "    axes[1, i].set_title(f'Disorder - Slice {slice_idx}')\n",
    "    axes[1, i].axis('off')\n",
    "\n",
    "plt.suptitle('Sample MRI Scans: Healthy vs Disorder', fontsize=16, fontweight='bold')\n",
    "plt.tight_layout()\n",
    "plt.show()"
   ]
  },
  {
   "cell_type": "markdown",
   "metadata": {},
   "source": [
    "## 3. Preprocessing MRI Scans\n",
    "\n",
    "Load and preprocess the MRI scans."
   ]
  },
  {
   "cell_type": "code",
   "execution_count": null,
   "metadata": {},
   "outputs": [],
   "source": [
    "# Get file paths\n",
    "data_dir = Path('../data')\n",
    "healthy_files = list((data_dir / 'healthy').glob('*.nii.gz'))\n",
    "disorder_files = list((data_dir / 'disorder').glob('*.nii.gz'))\n",
    "\n",
    "print(f\"Found {len(healthy_files)} healthy scans\")\n",
    "print(f\"Found {len(disorder_files)} disorder scans\")"
   ]
  },
  {
   "cell_type": "code",
   "execution_count": null,
   "metadata": {},
   "outputs": [],
   "source": [
    "# Initialize preprocessor\n",
    "preprocessor = MRIPreprocessor()\n",
    "\n",
    "# Preprocess healthy scans\n",
    "print(\"Preprocessing healthy scans...\")\n",
    "healthy_preprocessed = preprocessor.preprocess_dataset(\n",
    "    [str(f) for f in healthy_files],\n",
    "    normalize=True,\n",
    "    remove_bg=True,\n",
    "    skull_strip=True,\n",
    "    normalization_method='z-score'\n",
    ")\n",
    "\n",
    "# Preprocess disorder scans\n",
    "print(\"Preprocessing disorder scans...\")\n",
    "disorder_preprocessed = preprocessor.preprocess_dataset(\n",
    "    [str(f) for f in disorder_files],\n",
    "    normalize=True,\n",
    "    remove_bg=True,\n",
    "    skull_strip=True,\n",
    "    normalization_method='z-score'\n",
    ")\n",
    "\n",
    "print(f\"\\nPreprocessing complete!\")\n",
    "print(f\"Healthy: {len(healthy_preprocessed)} scans\")\n",
    "print(f\"Disorder: {len(disorder_preprocessed)} scans\")"
   ]
  },
  {
   "cell_type": "code",
   "execution_count": null,
   "metadata": {},
   "outputs": [],
   "source": [
    "# Compare preprocessing statistics\n",
    "healthy_stats = [scan['stats'] for scan in healthy_preprocessed]\n",
    "disorder_stats = [scan['stats'] for scan in disorder_preprocessed]\n",
    "\n",
    "healthy_stats_df = pd.DataFrame(healthy_stats)\n",
    "disorder_stats_df = pd.DataFrame(disorder_stats)\n",
    "\n",
    "print(\"\\nHealthy Group - Preprocessing Statistics:\")\n",
    "print(healthy_stats_df[['mean_intensity', 'std_intensity', 'non_zero_voxels']].describe())\n",
    "\n",
    "print(\"\\nDisorder Group - Preprocessing Statistics:\")\n",
    "print(disorder_stats_df[['mean_intensity', 'std_intensity', 'non_zero_voxels']].describe())"
   ]
  },
  {
   "cell_type": "markdown",
   "metadata": {},
   "source": [
    "## 4. Feature Extraction\n",
    "\n",
    "Extract quantitative features from preprocessed MRI scans."
   ]
  },
  {
   "cell_type": "code",
   "execution_count": null,
   "metadata": {},
   "outputs": [],
   "source": [
    "# Initialize feature extractor\n",
    "feature_extractor = FeatureExtractor(n_pca_components=20)\n",
    "\n",
    "# Extract features\n",
    "print(\"Extracting features from healthy scans...\")\n",
    "healthy_features = feature_extractor.extract_features_from_dataset(healthy_preprocessed)\n",
    "\n",
    "print(\"Extracting features from disorder scans...\")\n",
    "disorder_features = feature_extractor.extract_features_from_dataset(disorder_preprocessed)\n",
    "\n",
    "print(f\"\\nFeature extraction complete!\")\n",
    "print(f\"Number of features per scan: {len(healthy_features[0]) - 1}\")  # -1 for filepath"
   ]
  },
  {
   "cell_type": "code",
   "execution_count": null,
   "metadata": {},
   "outputs": [],
   "source": [
    "# Display sample features\n",
    "healthy_df = pd.DataFrame(healthy_features)\n",
    "disorder_df = pd.DataFrame(disorder_features)\n",
    "\n",
    "print(\"Sample features from healthy group:\")\n",
    "print(healthy_df.head())\n",
    "\n",
    "print(\"\\nFeature statistics:\")\n",
    "print(healthy_df.describe().iloc[:, :8])  # Show first 8 columns"
   ]
  },
  {
   "cell_type": "markdown",
   "metadata": {},
   "source": [
    "## 5. Comparative Analysis\n",
    "\n",
    "Perform statistical comparisons between the two groups."
   ]
  },
  {
   "cell_type": "code",
   "execution_count": null,
   "metadata": {},
   "outputs": [],
   "source": [
    "# Initialize analyzer\n",
    "analyzer = ComparativeAnalyzer(alpha=0.05)\n",
    "\n",
    "# Perform complete analysis\n",
    "print(\"Performing comparative analysis...\")\n",
    "analysis_results = analyzer.analyze_group_differences(\n",
    "    healthy_features,\n",
    "    disorder_features\n",
    ")\n",
    "\n",
    "print(\"\\nAnalysis complete!\")"
   ]
  },
  {
   "cell_type": "code",
   "execution_count": null,
   "metadata": {},
   "outputs": [],
   "source": [
    "# Display key results\n",
    "t_tests = analysis_results['t_tests']\n",
    "classification = analysis_results['classification']\n",
    "\n",
    "print(\"=\" * 80)\n",
    "print(\"STATISTICAL ANALYSIS RESULTS\")\n",
    "print(\"=\" * 80)\n",
    "print(f\"\\nSample Sizes:\")\n",
    "print(f\"  Healthy: {analysis_results['n_healthy']}\")\n",
    "print(f\"  Disorder: {analysis_results['n_disorder']}\")\n",
    "\n",
    "print(f\"\\nFeature Analysis:\")\n",
    "print(f\"  Total features: {len(t_tests)}\")\n",
    "print(f\"  Significant features (p < 0.05): {t_tests['significant'].sum()}\")\n",
    "print(f\"  Percentage significant: {t_tests['significant'].sum() / len(t_tests) * 100:.1f}%\")\n",
    "\n",
    "print(f\"\\nClassification Performance:\")\n",
    "print(f\"  Accuracy: {classification['cv_accuracy_mean']:.3f} ± {classification['cv_accuracy_std']:.3f}\")\n",
    "print(f\"  Number of features used: {classification['n_features']}\")"
   ]
  },
  {
   "cell_type": "code",
   "execution_count": null,
   "metadata": {},
   "outputs": [],
   "source": [
    "# Top discriminative features\n",
    "print(\"\\nTop 10 Most Discriminative Features:\")\n",
    "print(\"=\" * 80)\n",
    "top_features = t_tests.nsmallest(10, 'p_value')\n",
    "for idx, row in top_features.iterrows():\n",
    "    print(f\"{idx+1}. {row['feature']}\")\n",
    "    print(f\"   p-value: {row['p_value']:.6f}\")\n",
    "    print(f\"   Cohen's d: {row['cohens_d']:.3f}\")\n",
    "    print(f\"   Mean difference: {row['mean_difference']:.3f}\")\n",
    "    print(f\"   Significant: {'Yes' if row['significant'] else 'No'}\")\n",
    "    print()"
   ]
  },
  {
   "cell_type": "markdown",
   "metadata": {},
   "source": [
    "## 6. Visualization\n",
    "\n",
    "Generate visualizations to understand the results."
   ]
  },
  {
   "cell_type": "code",
   "execution_count": null,
   "metadata": {},
   "outputs": [],
   "source": [
    "# Initialize visualizer\n",
    "visualizer = Visualizer(output_dir='../results')\n",
    "\n",
    "# Plot feature distributions for top features\n",
    "top_feature_names = t_tests.nsmallest(6, 'p_value')['feature'].tolist()\n",
    "visualizer.plot_feature_distributions(\n",
    "    analysis_results['data'],\n",
    "    top_feature_names\n",
    ")\n",
    "plt.show()"
   ]
  },
  {
   "cell_type": "code",
   "execution_count": null,
   "metadata": {},
   "outputs": [],
   "source": [
    "# Plot t-test results\n",
    "visualizer.plot_t_test_results(analysis_results['t_tests'], top_n=15)\n",
    "plt.show()"
   ]
  },
  {
   "cell_type": "code",
   "execution_count": null,
   "metadata": {},
   "outputs": [],
   "source": [
    "# Plot feature importance\n",
    "visualizer.plot_feature_importance(\n",
    "    analysis_results['classification']['feature_importances'],\n",
    "    top_n=15\n",
    ")\n",
    "plt.show()"
   ]
  },
  {
   "cell_type": "code",
   "execution_count": null,
   "metadata": {},
   "outputs": [],
   "source": [
    "# Create comprehensive summary report\n",
    "visualizer.create_summary_report(analysis_results)\n",
    "plt.show()"
   ]
  },
  {
   "cell_type": "markdown",
   "metadata": {},
   "source": [
    "## 7. Interpretation of Results\n",
    "\n",
    "Let's interpret the key findings:"
   ]
  },
  {
   "cell_type": "code",
   "execution_count": null,
   "metadata": {},
   "outputs": [],
   "source": [
    "# Analyze feature categories\n",
    "t_tests_sorted = t_tests.sort_values('p_value')\n",
    "\n",
    "# Categorize features\n",
    "volume_features = [f for f in t_tests_sorted['feature'] if 'volume' in f.lower()]\n",
    "intensity_features = [f for f in t_tests_sorted['feature'] if 'intensity' in f.lower()]\n",
    "morphology_features = [f for f in t_tests_sorted['feature'] if any(\n",
    "    x in f.lower() for x in ['sphericity', 'elongation', 'compactness', 'surface']\n",
    ")]\n",
    "texture_features = [f for f in t_tests_sorted['feature'] if any(\n",
    "    x in f.lower() for x in ['entropy', 'energy', 'homogeneity', 'contrast']\n",
    ")]\n",
    "regional_features = [f for f in t_tests_sorted['feature'] if 'region' in f.lower()]\n",
    "\n",
    "print(\"Feature Category Analysis:\")\n",
    "print(\"=\" * 80)\n",
    "print(f\"Volume features: {len(volume_features)}\")\n",
    "print(f\"Intensity features: {len(intensity_features)}\")\n",
    "print(f\"Morphology features: {len(morphology_features)}\")\n",
    "print(f\"Texture features: {len(texture_features)}\")\n",
    "print(f\"Regional features: {len(regional_features)}\")"
   ]
  },
  {
   "cell_type": "code",
   "execution_count": null,
   "metadata": {},
   "outputs": [],
   "source": [
    "# Create summary table\n",
    "summary_data = {\n",
    "    'Metric': [\n",
    "        'Sample Size (Healthy)',\n",
    "        'Sample Size (Disorder)',\n",
    "        'Total Features',\n",
    "        'Significant Features',\n",
    "        'Classification Accuracy',\n",
    "        'Most Important Feature',\n",
    "        'Largest Effect Size'\n",
    "    ],\n",
    "    'Value': [\n",
    "        analysis_results['n_healthy'],\n",
    "        analysis_results['n_disorder'],\n",
    "        len(t_tests),\n",
    "        t_tests['significant'].sum(),\n",
    "        f\"{classification['cv_accuracy_mean']:.3f} ± {classification['cv_accuracy_std']:.3f}\",\n",
    "        classification['feature_importances'].iloc[0]['feature'],\n",
    "        t_tests.loc[t_tests['cohens_d'].abs().idxmax(), 'feature']\n",
    "    ]\n",
    "}\n",
    "\n",
    "summary_df = pd.DataFrame(summary_data)\n",
    "print(\"\\nSummary Table:\")\n",
    "print(\"=\" * 80)\n",
    "print(summary_df.to_string(index=False))"
   ]
  },
  {
   "cell_type": "markdown",
   "metadata": {},
   "source": [
    "## Conclusion\n",
    "\n",
    "This notebook demonstrated:\n",
    "\n",
    "1. **Data Generation**: Created synthetic brain MRI data with realistic characteristics\n",
    "2. **Preprocessing**: Applied normalization, background removal, and skull stripping\n",
    "3. **Feature Extraction**: Computed volume, intensity, texture, morphological, and regional features\n",
    "4. **Statistical Analysis**: Performed t-tests and effect size calculations\n",
    "5. **Classification**: Used Random Forest to distinguish between groups\n",
    "6. **Visualization**: Created comprehensive visualizations of results\n",
    "\n",
    "### Key Findings:\n",
    "\n",
    "- Multiple features show significant differences between healthy and disorder groups\n",
    "- Classification accuracy indicates good separability between groups\n",
    "- Volume, intensity, and morphological features are particularly discriminative\n",
    "- Regional analysis reveals spatially localized differences\n",
    "\n",
    "### Next Steps:\n",
    "\n",
    "- Apply to real MRI data\n",
    "- Explore additional preprocessing techniques\n",
    "- Test different feature extraction methods\n",
    "- Investigate deep learning approaches\n",
    "- Perform longitudinal analysis"
   ]
  }
 ],
 "metadata": {
  "kernelspec": {
   "display_name": "Python 3",
   "language": "python",
   "name": "python3"
  },
  "language_info": {
   "codemirror_mode": {
    "name": "ipython",
    "version": 3
   },
   "file_extension": ".py",
   "mimetype": "text/x-python",
   "name": "python",
   "nbconvert_exporter": "python",
   "pygments_lexer": "ipython3",
   "version": "3.8.0"
  }
 },
 "nbformat": 4,
 "nbformat_minor": 4
}
